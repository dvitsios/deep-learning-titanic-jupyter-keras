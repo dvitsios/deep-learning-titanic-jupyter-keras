{
 "cells": [
  {
   "cell_type": "markdown",
   "metadata": {},
   "source": [
    "## TODO\n",
    "\n",
    "Try PCA on the full table and color based on the class/annotation"
   ]
  },
  {
   "cell_type": "code",
   "execution_count": 83,
   "metadata": {},
   "outputs": [
    {
     "data": {
      "text/html": [
       "<div>\n",
       "<style>\n",
       "    .dataframe thead tr:only-child th {\n",
       "        text-align: right;\n",
       "    }\n",
       "\n",
       "    .dataframe thead th {\n",
       "        text-align: left;\n",
       "    }\n",
       "\n",
       "    .dataframe tbody tr th {\n",
       "        vertical-align: top;\n",
       "    }\n",
       "</style>\n",
       "<table border=\"1\" class=\"dataframe\">\n",
       "  <thead>\n",
       "    <tr style=\"text-align: right;\">\n",
       "      <th></th>\n",
       "      <th>Survived</th>\n",
       "      <th>Age</th>\n",
       "      <th>SibSp</th>\n",
       "      <th>Parch</th>\n",
       "      <th>Fare</th>\n",
       "      <th>Cabin</th>\n",
       "      <th>Pclass_1</th>\n",
       "      <th>Pclass_2</th>\n",
       "      <th>Pclass_3</th>\n",
       "      <th>Sex_female</th>\n",
       "      <th>Sex_male</th>\n",
       "      <th>Embarked_C</th>\n",
       "      <th>Embarked_Q</th>\n",
       "      <th>Embarked_S</th>\n",
       "    </tr>\n",
       "  </thead>\n",
       "  <tbody>\n",
       "    <tr>\n",
       "      <th>0</th>\n",
       "      <td>0</td>\n",
       "      <td>0.271174</td>\n",
       "      <td>0.125</td>\n",
       "      <td>0.000000</td>\n",
       "      <td>0.014151</td>\n",
       "      <td>0</td>\n",
       "      <td>0.0</td>\n",
       "      <td>0.0</td>\n",
       "      <td>1.0</td>\n",
       "      <td>0.0</td>\n",
       "      <td>1.0</td>\n",
       "      <td>0.0</td>\n",
       "      <td>0.0</td>\n",
       "      <td>1.0</td>\n",
       "    </tr>\n",
       "    <tr>\n",
       "      <th>1</th>\n",
       "      <td>1</td>\n",
       "      <td>0.472229</td>\n",
       "      <td>0.125</td>\n",
       "      <td>0.000000</td>\n",
       "      <td>0.139136</td>\n",
       "      <td>1</td>\n",
       "      <td>1.0</td>\n",
       "      <td>0.0</td>\n",
       "      <td>0.0</td>\n",
       "      <td>1.0</td>\n",
       "      <td>0.0</td>\n",
       "      <td>1.0</td>\n",
       "      <td>0.0</td>\n",
       "      <td>0.0</td>\n",
       "    </tr>\n",
       "    <tr>\n",
       "      <th>2</th>\n",
       "      <td>1</td>\n",
       "      <td>0.321438</td>\n",
       "      <td>0.000</td>\n",
       "      <td>0.000000</td>\n",
       "      <td>0.015469</td>\n",
       "      <td>0</td>\n",
       "      <td>0.0</td>\n",
       "      <td>0.0</td>\n",
       "      <td>1.0</td>\n",
       "      <td>1.0</td>\n",
       "      <td>0.0</td>\n",
       "      <td>0.0</td>\n",
       "      <td>0.0</td>\n",
       "      <td>1.0</td>\n",
       "    </tr>\n",
       "    <tr>\n",
       "      <th>3</th>\n",
       "      <td>1</td>\n",
       "      <td>0.434531</td>\n",
       "      <td>0.125</td>\n",
       "      <td>0.000000</td>\n",
       "      <td>0.103644</td>\n",
       "      <td>1</td>\n",
       "      <td>1.0</td>\n",
       "      <td>0.0</td>\n",
       "      <td>0.0</td>\n",
       "      <td>1.0</td>\n",
       "      <td>0.0</td>\n",
       "      <td>0.0</td>\n",
       "      <td>0.0</td>\n",
       "      <td>1.0</td>\n",
       "    </tr>\n",
       "    <tr>\n",
       "      <th>4</th>\n",
       "      <td>0</td>\n",
       "      <td>0.434531</td>\n",
       "      <td>0.000</td>\n",
       "      <td>0.000000</td>\n",
       "      <td>0.015713</td>\n",
       "      <td>0</td>\n",
       "      <td>0.0</td>\n",
       "      <td>0.0</td>\n",
       "      <td>1.0</td>\n",
       "      <td>0.0</td>\n",
       "      <td>1.0</td>\n",
       "      <td>0.0</td>\n",
       "      <td>0.0</td>\n",
       "      <td>1.0</td>\n",
       "    </tr>\n",
       "    <tr>\n",
       "      <th>5</th>\n",
       "      <td>0</td>\n",
       "      <td>1.000000</td>\n",
       "      <td>0.000</td>\n",
       "      <td>0.000000</td>\n",
       "      <td>0.016510</td>\n",
       "      <td>0</td>\n",
       "      <td>0.0</td>\n",
       "      <td>0.0</td>\n",
       "      <td>1.0</td>\n",
       "      <td>0.0</td>\n",
       "      <td>1.0</td>\n",
       "      <td>0.0</td>\n",
       "      <td>1.0</td>\n",
       "      <td>0.0</td>\n",
       "    </tr>\n",
       "    <tr>\n",
       "      <th>6</th>\n",
       "      <td>0</td>\n",
       "      <td>0.673285</td>\n",
       "      <td>0.000</td>\n",
       "      <td>0.000000</td>\n",
       "      <td>0.101229</td>\n",
       "      <td>1</td>\n",
       "      <td>1.0</td>\n",
       "      <td>0.0</td>\n",
       "      <td>0.0</td>\n",
       "      <td>0.0</td>\n",
       "      <td>1.0</td>\n",
       "      <td>0.0</td>\n",
       "      <td>0.0</td>\n",
       "      <td>1.0</td>\n",
       "    </tr>\n",
       "    <tr>\n",
       "      <th>7</th>\n",
       "      <td>0</td>\n",
       "      <td>0.019854</td>\n",
       "      <td>0.375</td>\n",
       "      <td>0.166667</td>\n",
       "      <td>0.041136</td>\n",
       "      <td>0</td>\n",
       "      <td>0.0</td>\n",
       "      <td>0.0</td>\n",
       "      <td>1.0</td>\n",
       "      <td>0.0</td>\n",
       "      <td>1.0</td>\n",
       "      <td>0.0</td>\n",
       "      <td>0.0</td>\n",
       "      <td>1.0</td>\n",
       "    </tr>\n",
       "    <tr>\n",
       "      <th>8</th>\n",
       "      <td>1</td>\n",
       "      <td>0.334004</td>\n",
       "      <td>0.000</td>\n",
       "      <td>0.333333</td>\n",
       "      <td>0.021731</td>\n",
       "      <td>0</td>\n",
       "      <td>0.0</td>\n",
       "      <td>0.0</td>\n",
       "      <td>1.0</td>\n",
       "      <td>1.0</td>\n",
       "      <td>0.0</td>\n",
       "      <td>0.0</td>\n",
       "      <td>0.0</td>\n",
       "      <td>1.0</td>\n",
       "    </tr>\n",
       "    <tr>\n",
       "      <th>9</th>\n",
       "      <td>1</td>\n",
       "      <td>0.170646</td>\n",
       "      <td>0.125</td>\n",
       "      <td>0.000000</td>\n",
       "      <td>0.058694</td>\n",
       "      <td>0</td>\n",
       "      <td>0.0</td>\n",
       "      <td>1.0</td>\n",
       "      <td>0.0</td>\n",
       "      <td>1.0</td>\n",
       "      <td>0.0</td>\n",
       "      <td>1.0</td>\n",
       "      <td>0.0</td>\n",
       "      <td>0.0</td>\n",
       "    </tr>\n",
       "  </tbody>\n",
       "</table>\n",
       "</div>"
      ],
      "text/plain": [
       "   Survived       Age  SibSp     Parch      Fare Cabin  Pclass_1  Pclass_2  \\\n",
       "0         0  0.271174  0.125  0.000000  0.014151     0       0.0       0.0   \n",
       "1         1  0.472229  0.125  0.000000  0.139136     1       1.0       0.0   \n",
       "2         1  0.321438  0.000  0.000000  0.015469     0       0.0       0.0   \n",
       "3         1  0.434531  0.125  0.000000  0.103644     1       1.0       0.0   \n",
       "4         0  0.434531  0.000  0.000000  0.015713     0       0.0       0.0   \n",
       "5         0  1.000000  0.000  0.000000  0.016510     0       0.0       0.0   \n",
       "6         0  0.673285  0.000  0.000000  0.101229     1       1.0       0.0   \n",
       "7         0  0.019854  0.375  0.166667  0.041136     0       0.0       0.0   \n",
       "8         1  0.334004  0.000  0.333333  0.021731     0       0.0       0.0   \n",
       "9         1  0.170646  0.125  0.000000  0.058694     0       0.0       1.0   \n",
       "\n",
       "   Pclass_3  Sex_female  Sex_male  Embarked_C  Embarked_Q  Embarked_S  \n",
       "0       1.0         0.0       1.0         0.0         0.0         1.0  \n",
       "1       0.0         1.0       0.0         1.0         0.0         0.0  \n",
       "2       1.0         1.0       0.0         0.0         0.0         1.0  \n",
       "3       0.0         1.0       0.0         0.0         0.0         1.0  \n",
       "4       1.0         0.0       1.0         0.0         0.0         1.0  \n",
       "5       1.0         0.0       1.0         0.0         1.0         0.0  \n",
       "6       0.0         0.0       1.0         0.0         0.0         1.0  \n",
       "7       1.0         0.0       1.0         0.0         0.0         1.0  \n",
       "8       1.0         1.0       0.0         0.0         0.0         1.0  \n",
       "9       0.0         1.0       0.0         1.0         0.0         0.0  "
      ]
     },
     "execution_count": 83,
     "metadata": {},
     "output_type": "execute_result"
    }
   ],
   "source": [
    "import pandas as pd\n",
    "import numpy as np\n",
    "import keras\n",
    "from sklearn.preprocessing import Imputer\n",
    "from keras.utils import to_categorical\n",
    "import sys\n",
    "\n",
    "    \n",
    "def prepare_input_df(data, is_training=True):    \n",
    "    data.index = range(0, len(data))\n",
    "    data = data.drop(['PassengerId', 'Name', 'Ticket'], axis=1)\n",
    "\n",
    "    # Make dummy variables for annotation\n",
    "    one_hot_data = pd.concat([data, pd.get_dummies(data['Pclass'], prefix='Pclass'), pd.get_dummies(data['Sex'], prefix='Sex'), pd.get_dummies(data['Embarked'], prefix='Embarked') ], axis=1)\n",
    "\n",
    "    # Drop the previous rank column\n",
    "    one_hot_data = one_hot_data.drop(['Pclass', 'Sex', 'Embarked'], axis=1)\n",
    "\n",
    "    one_hot_data[:10]\n",
    "    data = one_hot_data\n",
    "\n",
    "    # imputing missing values\n",
    "    data.loc[~data['Cabin'].isnull(), ['Cabin']] = 1\n",
    "    data.loc[data['Cabin'].isnull(), ['Cabin']] = 0\n",
    "    \n",
    "    data.loc[data['Age'].isnull(), ['Age']] = data['Age'].max()\n",
    "    \n",
    "\n",
    "    ## replace YES with 1 and NO with 0 and store to 'y'\n",
    "    # label_mapping = {'YES': 1, 'NO': 0}\n",
    "    # data = data.replace({'Survived': label_mapping})\n",
    "\n",
    "    if is_training:\n",
    "        y = data['Survived']\n",
    "        \n",
    "    # normalise data\n",
    "    data = (data - data.min()) / (data.max() - data.min())\n",
    "\n",
    "    # imputing missing values\n",
    "    # fill_NaN = Imputer(missing_values=np.nan, strategy='mean', axis=1)\n",
    "    # imputed_DF = pd.DataFrame(fill_NaN.fit_transform(data))\n",
    "    # imputed_DF.columns = data.columns\n",
    "    # data.index = data.index\n",
    "    # data = imputed_DF\n",
    "    # data = data.interpolate(method='spline', order=2) # interpolate missing values\n",
    "    #data = data.fillna(0)\n",
    "\n",
    "    if is_training:\n",
    "        data['Survived'] = y\n",
    "    \n",
    "    return data\n",
    "\n",
    "data = pd.read_csv('train.csv', sep=',')\n",
    "data = prepare_input_df(data)\n",
    "\n",
    "data[:10]\n",
    "\n",
    "# test = pd.read_csv('test.csv', sep=',')\n",
    "# test_data = prepare_input_df(test, False)\n",
    "# test_data[:10]\n",
    "\n"
   ]
  },
  {
   "cell_type": "code",
   "execution_count": 74,
   "metadata": {},
   "outputs": [
    {
     "name": "stdout",
     "output_type": "stream",
     "text": [
      "Number of training samples is 891\n"
     ]
    }
   ],
   "source": [
    "np.random.seed(3)\n",
    "\n",
    "# # Split X into training and test sets\n",
    "# sample = np.random.choice(data.index, size=int(len(data)*0.7), replace=False)\n",
    "# train_data, test_data = data.iloc[sample], data.drop(sample)\n",
    "\n",
    "# train using all rows from train.csv\n",
    "train_data = data\n",
    "\n",
    "print(\"Number of training samples is\", len(train_data))\n",
    "# print(\"Number of testing samples is\", len(test_data))"
   ]
  },
  {
   "cell_type": "code",
   "execution_count": 75,
   "metadata": {},
   "outputs": [
    {
     "name": "stdout",
     "output_type": "stream",
     "text": [
      "Number of rows in X_train:  891\n",
      "Number of rows in y_train:  891\n"
     ]
    }
   ],
   "source": [
    "X_train = np.array(train_data.drop('Survived', axis=1))\n",
    "y_train = np.array(keras.utils.to_categorical(train_data['Survived'], 2))\n",
    "\n",
    "# X_test = np.array(test_data.drop('Survived', axis=1))\n",
    "# y_test = np.array(keras.utils.to_categorical(test_data['Survived'], 2))\n",
    "\n",
    "\n",
    "print(\"Number of rows in X_train: \", len(X_train))\n",
    "print(\"Number of rows in y_train: \", len(y_train))\n",
    "# print(\"Number of rows in X_test\", len(X_test))\n",
    "# print(\"Number of rows in y_test\", len(y_test))"
   ]
  },
  {
   "cell_type": "code",
   "execution_count": 56,
   "metadata": {},
   "outputs": [
    {
     "data": {
      "text/plain": [
       "(891, 13)"
      ]
     },
     "execution_count": 56,
     "metadata": {},
     "output_type": "execute_result"
    }
   ],
   "source": [
    "data.columns\n",
    "# tt = pd.DataFrame(y_train)\n",
    "# tt.columns = ['c0', 'c1']\n",
    "# tt.loc[tt['c1'] == 1.0]\n",
    "# data\n",
    "X_train.shape"
   ]
  },
  {
   "cell_type": "markdown",
   "metadata": {},
   "source": [
    "### Build Neural Network with `sckit-learn` wrapper for `Keras`"
   ]
  },
  {
   "cell_type": "code",
   "execution_count": 76,
   "metadata": {},
   "outputs": [
    {
     "data": {
      "text/plain": [
       "<keras.wrappers.scikit_learn.KerasClassifier at 0x7faea53e1588>"
      ]
     },
     "execution_count": 76,
     "metadata": {},
     "output_type": "execute_result"
    }
   ],
   "source": [
    "from sklearn.model_selection import GridSearchCV\n",
    "from keras.models import Sequential\n",
    "from keras.layers.core import Dense, Dropout, Activation\n",
    "from keras.optimizers import SGD\n",
    "from keras.utils import np_utils\n",
    "from keras.callbacks import EarlyStopping\n",
    "from keras.optimizers import RMSprop\n",
    "from keras import regularizers\n",
    "from keras.metrics import categorical_accuracy\n",
    "from keras.wrappers.scikit_learn import KerasClassifier\n",
    "\n",
    "def create_model(init_mode='he_normal'):\n",
    "    \n",
    "    reglr = 0.0001\n",
    "    # Building the model\n",
    "    model = Sequential()\n",
    "    # model.add(Dense(16, activation='relu', input_shape=(X_train.shape[1],), kernel_regularizer=regularizers.l2(0.01)))\n",
    "    model.add(Dense(512, kernel_initializer=init_mode, activation='relu', input_shape=(X_train.shape[1],), kernel_regularizer=regularizers.l2(reglr) ))\n",
    "    model.add(Dropout(.4))\n",
    "    # model.add(Dense(16, activation='relu', kernel_regularizer=regularizers.l2(0.01)))\n",
    "    model.add(Dense(128, kernel_initializer=init_mode, activation='relu', kernel_regularizer=regularizers.l2(reglr)))\n",
    "    model.add(Dropout(.2))\n",
    "    # model.add(Dense(16, activation='relu', kernel_regularizer=regularizers.l2(0.01)))\n",
    "    # model.add(Dropout(.1))\n",
    "    # model.add(Dense(8, activation='relu', kernel_regularizer=regularizers.l2(0.01)))\n",
    "    # model.add(Dropout(.2))\n",
    "    # model.add(Dense(4, activation='relu', kernel_regularizer=regularizers.l2(0.01)))\n",
    "    # model.add(Dropout(.1))\n",
    "    model.add(Dense(2, activation='softmax'))\n",
    "\n",
    "    # Compiling the model\n",
    "    # sgd_optim = keras.optimizers.SGD(lr=0.001, momentum=0.0, decay=0.0, nesterov=False)\n",
    "    # adam=keras.optimizers.Adam(lr=0.00001)\n",
    "          \n",
    "    model.compile(loss = 'binary_crossentropy', optimizer='adam', metrics=['accuracy'])\n",
    "    return model\n",
    "\n",
    "model = KerasClassifier(build_fn=create_model, verbose=0)\n",
    "# model = KerasClassifier(build_fn=create_model, epochs=100, batch_size=10, verbose=0)\n",
    "model"
   ]
  },
  {
   "cell_type": "markdown",
   "metadata": {},
   "source": [
    "### Grid Search for optimal Training Optimisation Algorithm - [ DONE ]"
   ]
  },
  {
   "cell_type": "code",
   "execution_count": null,
   "metadata": {
    "collapsed": true
   },
   "outputs": [],
   "source": [
    "# Define the grid search parameters\n",
    "\n",
    "optimizer = ['SGD', 'RMSprop', 'Adagrad', 'Adadelta', 'Adam', 'Adamax', 'Nadam']\n",
    "\n",
    "param_grid = dict(optimizer=optimizer)\n",
    "\n",
    "# Run grid search\n",
    "grid = GridSearchCV(estimator = model, param_grid = param_grid, cv = 3, n_jobs=1)\n",
    "\n",
    "grid_tuning = grid.fit(X_train, y_train)"
   ]
  },
  {
   "cell_type": "markdown",
   "metadata": {},
   "source": [
    "#### Results from optimizer tuning"
   ]
  },
  {
   "cell_type": "code",
   "execution_count": 244,
   "metadata": {
    "scrolled": true
   },
   "outputs": [
    {
     "name": "stdout",
     "output_type": "stream",
     "text": [
      "Best: 0.808081 using {'optimizer': 'Adam'}\n",
      "0.805836 (0.007936) with: {'optimizer': 'SGD'}\n",
      "0.802469 (0.010408) with: {'optimizer': 'RMSprop'}\n",
      "0.808081 (0.004762) with: {'optimizer': 'Adagrad'}\n",
      "0.808081 (0.007274) with: {'optimizer': 'Adadelta'}\n",
      "0.808081 (0.011983) with: {'optimizer': 'Adam'}\n",
      "0.803591 (0.011446) with: {'optimizer': 'Adamax'}\n",
      "0.806958 (0.015141) with: {'optimizer': 'Nadam'}\n"
     ]
    }
   ],
   "source": [
    "print(\"Best: %f using %s\" % (grid_tuning.best_score_, grid_tuning.best_params_))\n",
    "means = grid_tuning.cv_results_['mean_test_score']\n",
    "stds = grid_tuning.cv_results_['std_test_score']\n",
    "params = grid_tuning.cv_results_['params']\n",
    "for mean, stdev, param in zip(means, stds, params):\n",
    "    print(\"%f (%f) with: %r\" % (mean, stdev, param))"
   ]
  },
  {
   "cell_type": "markdown",
   "metadata": {},
   "source": [
    "<br/><br/>"
   ]
  },
  {
   "cell_type": "markdown",
   "metadata": {},
   "source": [
    "### Grid Search for optimal learning rate, momentum and number of epochs"
   ]
  },
  {
   "cell_type": "code",
   "execution_count": null,
   "metadata": {
    "collapsed": true
   },
   "outputs": [],
   "source": [
    "# Define the grid search parameters\n",
    "\n",
    "# learn_rate = [0.001, 0.01, 0.1, 0.2, 0.3]\n",
    "# momentum = [0.0, 0.2, 0.4, 0.6, 0.8, 0.9]\n",
    "# param_grid = dict(lr=learn_rate, momentum=momentum)\n",
    "# grid = GridSearchCV(estimator=model, param_grid=param_grid, n_jobs=1)\n",
    "\n",
    "batch_size = [10, 20, 40, 60, 80, 100]\n",
    "epochs = [10, 50, 100]\n",
    "init_mode = ['uniform', 'lecun_uniform', 'normal', 'zero', 'glorot_normal', 'glorot_uniform', 'he_normal', 'he_uniform']\n",
    "param_grid = dict(init_mode=init_mode, batch_size=batch_size, epochs=epochs)\n",
    "\n",
    "grid = GridSearchCV(estimator=model, param_grid=param_grid, n_jobs=1)\n",
    "grid_tuning = grid.fit(X_train, y_train)"
   ]
  },
  {
   "cell_type": "markdown",
   "metadata": {},
   "source": [
    "#### Results from optimizer tuning"
   ]
  },
  {
   "cell_type": "code",
   "execution_count": 283,
   "metadata": {
    "scrolled": true
   },
   "outputs": [
    {
     "name": "stdout",
     "output_type": "stream",
     "text": [
      "Best: 0.806958 using {'init_mode': 'he_normal'}\n",
      "0.803591 (0.013561) with: {'init_mode': 'uniform'}\n",
      "0.802469 (0.019309) with: {'init_mode': 'lecun_uniform'}\n",
      "0.802469 (0.019888) with: {'init_mode': 'normal'}\n",
      "0.616162 (0.033445) with: {'init_mode': 'zero'}\n",
      "0.804714 (0.012598) with: {'init_mode': 'glorot_normal'}\n",
      "0.803591 (0.014108) with: {'init_mode': 'glorot_uniform'}\n",
      "0.806958 (0.004199) with: {'init_mode': 'he_normal'}\n",
      "0.802469 (0.006919) with: {'init_mode': 'he_uniform'}\n"
     ]
    }
   ],
   "source": [
    "print(\"Best: %f using %s\" % (grid_tuning.best_score_, grid_tuning.best_params_))\n",
    "means = grid_tuning.cv_results_['mean_test_score']\n",
    "stds = grid_tuning.cv_results_['std_test_score']\n",
    "params = grid_tuning.cv_results_['params']\n",
    "for mean, stdev, param in zip(means, stds, params):\n",
    "    print(\"%f (%f) with: %r\" % (mean, stdev, param))"
   ]
  },
  {
   "cell_type": "markdown",
   "metadata": {},
   "source": [
    "<br/><br/><br/><br/><br/><br/><br/>"
   ]
  },
  {
   "cell_type": "markdown",
   "metadata": {},
   "source": [
    "## Train model using optimal parameters"
   ]
  },
  {
   "cell_type": "code",
   "execution_count": 20,
   "metadata": {
    "collapsed": true
   },
   "outputs": [],
   "source": [
    "# # # Split X into training and test sets\n",
    "# sample = np.random.choice(data.index, size=int(len(data)*0.7), replace=False)\n",
    "# train_data, test_data = data.iloc[sample], data.drop(sample)\n",
    "\n",
    "# X_train = np.array(train_data.drop('Survived', axis=1))\n",
    "# y_train = np.array(keras.utils.to_categorical(train_data['Survived'], 2))\n",
    "\n",
    "# X_test = np.array(test_data.drop('Survived', axis=1))\n",
    "# y_test = np.array(keras.utils.to_categorical(test_data['Survived'], 2))"
   ]
  },
  {
   "cell_type": "code",
   "execution_count": 77,
   "metadata": {},
   "outputs": [
    {
     "name": "stdout",
     "output_type": "stream",
     "text": [
      "Train on 801 samples, validate on 90 samples\n",
      "Epoch 1/100\n",
      "801/801 [==============================] - 1s 656us/step - loss: 0.6096 - acc: 0.9220 - val_loss: 0.5864 - val_acc: 1.0000\n",
      "Epoch 2/100\n",
      "801/801 [==============================] - 0s 217us/step - loss: 0.5194 - acc: 1.0000 - val_loss: 0.4358 - val_acc: 1.0000\n",
      "Epoch 3/100\n",
      "801/801 [==============================] - 0s 248us/step - loss: 0.3115 - acc: 1.0000 - val_loss: 0.1832 - val_acc: 1.0000\n",
      "Epoch 4/100\n",
      "801/801 [==============================] - 0s 257us/step - loss: 0.1263 - acc: 1.0000 - val_loss: 0.0824 - val_acc: 1.0000\n",
      "Epoch 5/100\n",
      "801/801 [==============================] - 0s 281us/step - loss: 0.0734 - acc: 1.0000 - val_loss: 0.0612 - val_acc: 1.0000\n",
      "Epoch 6/100\n",
      "801/801 [==============================] - 0s 238us/step - loss: 0.0581 - acc: 1.0000 - val_loss: 0.0530 - val_acc: 1.0000\n",
      "Epoch 7/100\n",
      "801/801 [==============================] - 0s 267us/step - loss: 0.0511 - acc: 1.0000 - val_loss: 0.0474 - val_acc: 1.0000\n",
      "Epoch 8/100\n",
      "801/801 [==============================] - 0s 306us/step - loss: 0.0477 - acc: 0.9988 - val_loss: 0.0437 - val_acc: 1.0000\n",
      "Epoch 9/100\n",
      "801/801 [==============================] - 0s 268us/step - loss: 0.0431 - acc: 1.0000 - val_loss: 0.0408 - val_acc: 1.0000\n",
      "Epoch 10/100\n",
      "801/801 [==============================] - 0s 258us/step - loss: 0.0400 - acc: 1.0000 - val_loss: 0.0378 - val_acc: 1.0000\n",
      "Epoch 11/100\n",
      "801/801 [==============================] - 0s 272us/step - loss: 0.0370 - acc: 1.0000 - val_loss: 0.0351 - val_acc: 1.0000\n",
      "Epoch 12/100\n",
      "801/801 [==============================] - 0s 226us/step - loss: 0.0344 - acc: 1.0000 - val_loss: 0.0326 - val_acc: 1.0000\n",
      "Epoch 13/100\n",
      "801/801 [==============================] - 0s 287us/step - loss: 0.0318 - acc: 1.0000 - val_loss: 0.0304 - val_acc: 1.0000\n",
      "Epoch 14/100\n",
      "801/801 [==============================] - 0s 262us/step - loss: 0.0297 - acc: 1.0000 - val_loss: 0.0283 - val_acc: 1.0000\n",
      "Epoch 15/100\n",
      "801/801 [==============================] - 0s 292us/step - loss: 0.0278 - acc: 1.0000 - val_loss: 0.0265 - val_acc: 1.0000\n",
      "Epoch 16/100\n",
      "801/801 [==============================] - 0s 282us/step - loss: 0.0260 - acc: 1.0000 - val_loss: 0.0248 - val_acc: 1.0000\n",
      "Epoch 17/100\n",
      "801/801 [==============================] - 0s 225us/step - loss: 0.0243 - acc: 1.0000 - val_loss: 0.0232 - val_acc: 1.0000\n",
      "Epoch 18/100\n",
      "801/801 [==============================] - 0s 257us/step - loss: 0.0228 - acc: 1.0000 - val_loss: 0.0218 - val_acc: 1.0000\n",
      "Epoch 19/100\n",
      "801/801 [==============================] - 0s 286us/step - loss: 0.0214 - acc: 1.0000 - val_loss: 0.0204 - val_acc: 1.0000\n",
      "Epoch 20/100\n",
      "801/801 [==============================] - 0s 293us/step - loss: 0.0201 - acc: 1.0000 - val_loss: 0.0192 - val_acc: 1.0000\n",
      "Epoch 21/100\n",
      "801/801 [==============================] - 0s 301us/step - loss: 0.0189 - acc: 1.0000 - val_loss: 0.0181 - val_acc: 1.0000\n",
      "Epoch 22/100\n",
      "801/801 [==============================] - 0s 340us/step - loss: 0.0178 - acc: 1.0000 - val_loss: 0.0171 - val_acc: 1.0000\n",
      "Epoch 23/100\n",
      "801/801 [==============================] - 0s 301us/step - loss: 0.0168 - acc: 1.0000 - val_loss: 0.0161 - val_acc: 1.0000\n",
      "Epoch 24/100\n",
      "801/801 [==============================] - 0s 270us/step - loss: 0.0159 - acc: 1.0000 - val_loss: 0.0152 - val_acc: 1.0000\n",
      "Epoch 25/100\n",
      "801/801 [==============================] - 0s 251us/step - loss: 0.0150 - acc: 1.0000 - val_loss: 0.0144 - val_acc: 1.0000\n",
      "Epoch 26/100\n",
      "801/801 [==============================] - 0s 337us/step - loss: 0.0142 - acc: 1.0000 - val_loss: 0.0137 - val_acc: 1.0000\n",
      "Epoch 27/100\n",
      "801/801 [==============================] - 0s 308us/step - loss: 0.0135 - acc: 1.0000 - val_loss: 0.0130 - val_acc: 1.0000\n",
      "Epoch 28/100\n",
      "801/801 [==============================] - 0s 292us/step - loss: 0.0128 - acc: 1.0000 - val_loss: 0.0123 - val_acc: 1.0000\n",
      "Epoch 29/100\n",
      "801/801 [==============================] - 0s 351us/step - loss: 0.0122 - acc: 1.0000 - val_loss: 0.0117 - val_acc: 1.0000\n",
      "Epoch 30/100\n",
      "801/801 [==============================] - 0s 266us/step - loss: 0.0116 - acc: 1.0000 - val_loss: 0.0112 - val_acc: 1.0000\n",
      "Epoch 31/100\n",
      "801/801 [==============================] - 0s 296us/step - loss: 0.0110 - acc: 1.0000 - val_loss: 0.0107 - val_acc: 1.0000\n",
      "Epoch 32/100\n",
      "801/801 [==============================] - 0s 276us/step - loss: 0.0106 - acc: 1.0000 - val_loss: 0.0102 - val_acc: 1.0000\n",
      "Epoch 33/100\n",
      "801/801 [==============================] - 0s 303us/step - loss: 0.0101 - acc: 1.0000 - val_loss: 0.0097 - val_acc: 1.0000\n",
      "Epoch 34/100\n",
      "801/801 [==============================] - 0s 324us/step - loss: 0.0096 - acc: 1.0000 - val_loss: 0.0093 - val_acc: 1.0000\n",
      "Epoch 35/100\n",
      "801/801 [==============================] - ETA: 0s - loss: 0.0092 - acc: 1.000 - 0s 338us/step - loss: 0.0092 - acc: 1.0000 - val_loss: 0.0089 - val_acc: 1.0000\n",
      "Epoch 36/100\n",
      "801/801 [==============================] - 0s 270us/step - loss: 0.0089 - acc: 1.0000 - val_loss: 0.0086 - val_acc: 1.0000\n",
      "Epoch 37/100\n",
      "801/801 [==============================] - 0s 260us/step - loss: 0.0085 - acc: 1.0000 - val_loss: 0.0083 - val_acc: 1.0000\n",
      "Epoch 38/100\n",
      "801/801 [==============================] - 0s 250us/step - loss: 0.0083 - acc: 1.0000 - val_loss: 0.0081 - val_acc: 1.0000\n",
      "Epoch 39/100\n",
      "801/801 [==============================] - 0s 270us/step - loss: 0.0080 - acc: 1.0000 - val_loss: 0.0077 - val_acc: 1.0000\n",
      "Epoch 40/100\n",
      "801/801 [==============================] - 0s 273us/step - loss: 0.0076 - acc: 1.0000 - val_loss: 0.0074 - val_acc: 1.0000\n",
      "Epoch 41/100\n",
      "801/801 [==============================] - 0s 266us/step - loss: 0.0073 - acc: 1.0000 - val_loss: 0.0071 - val_acc: 1.0000\n",
      "Epoch 42/100\n",
      "801/801 [==============================] - 0s 233us/step - loss: 0.0070 - acc: 1.0000 - val_loss: 0.0068 - val_acc: 1.0000\n",
      "Epoch 43/100\n",
      "801/801 [==============================] - 0s 286us/step - loss: 0.0068 - acc: 1.0000 - val_loss: 0.0066 - val_acc: 1.0000\n",
      "Epoch 44/100\n",
      "801/801 [==============================] - 0s 293us/step - loss: 0.0066 - acc: 1.0000 - val_loss: 0.0064 - val_acc: 1.0000\n",
      "Epoch 45/100\n",
      "801/801 [==============================] - 0s 292us/step - loss: 0.0063 - acc: 1.0000 - val_loss: 0.0061 - val_acc: 1.0000\n",
      "Epoch 46/100\n",
      "801/801 [==============================] - 0s 281us/step - loss: 0.0061 - acc: 1.0000 - val_loss: 0.0059 - val_acc: 1.0000\n",
      "Epoch 47/100\n",
      "801/801 [==============================] - 0s 269us/step - loss: 0.0059 - acc: 1.0000 - val_loss: 0.0057 - val_acc: 1.0000\n",
      "Epoch 48/100\n",
      "801/801 [==============================] - 0s 277us/step - loss: 0.0058 - acc: 1.0000 - val_loss: 0.0057 - val_acc: 1.0000\n",
      "Epoch 49/100\n",
      "801/801 [==============================] - 0s 291us/step - loss: 0.0057 - acc: 1.0000 - val_loss: 0.0056 - val_acc: 1.0000\n",
      "Epoch 50/100\n",
      "801/801 [==============================] - 0s 294us/step - loss: 0.0055 - acc: 1.0000 - val_loss: 0.0054 - val_acc: 1.0000\n",
      "Epoch 51/100\n",
      "801/801 [==============================] - ETA: 0s - loss: 0.0053 - acc: 1.000 - 0s 234us/step - loss: 0.0053 - acc: 1.0000 - val_loss: 0.0051 - val_acc: 1.0000\n",
      "Epoch 52/100\n",
      "801/801 [==============================] - 0s 320us/step - loss: 0.0051 - acc: 1.0000 - val_loss: 0.0050 - val_acc: 1.0000\n",
      "Epoch 53/100\n",
      "801/801 [==============================] - 0s 223us/step - loss: 0.0049 - acc: 1.0000 - val_loss: 0.0048 - val_acc: 1.0000\n",
      "Epoch 54/100\n",
      "801/801 [==============================] - 0s 236us/step - loss: 0.0047 - acc: 1.0000 - val_loss: 0.0046 - val_acc: 1.0000\n",
      "Epoch 55/100\n",
      "801/801 [==============================] - 0s 211us/step - loss: 0.0046 - acc: 1.0000 - val_loss: 0.0044 - val_acc: 1.0000\n",
      "Epoch 56/100\n",
      "801/801 [==============================] - 0s 301us/step - loss: 0.0044 - acc: 1.0000 - val_loss: 0.0043 - val_acc: 1.0000\n",
      "Epoch 57/100\n",
      "801/801 [==============================] - 0s 302us/step - loss: 0.0043 - acc: 1.0000 - val_loss: 0.0041 - val_acc: 1.0000\n",
      "Epoch 58/100\n",
      "801/801 [==============================] - 0s 244us/step - loss: 0.0042 - acc: 1.0000 - val_loss: 0.0040 - val_acc: 1.0000\n",
      "Epoch 59/100\n",
      "801/801 [==============================] - 0s 250us/step - loss: 0.0040 - acc: 1.0000 - val_loss: 0.0039 - val_acc: 1.0000\n",
      "Epoch 60/100\n"
     ]
    },
    {
     "name": "stdout",
     "output_type": "stream",
     "text": [
      "801/801 [==============================] - 0s 223us/step - loss: 0.0039 - acc: 1.0000 - val_loss: 0.0038 - val_acc: 1.0000\n",
      "Epoch 61/100\n",
      "801/801 [==============================] - 0s 191us/step - loss: 0.0038 - acc: 1.0000 - val_loss: 0.0037 - val_acc: 1.0000\n",
      "Epoch 62/100\n",
      "801/801 [==============================] - 0s 196us/step - loss: 0.0037 - acc: 1.0000 - val_loss: 0.0036 - val_acc: 1.0000\n",
      "Epoch 63/100\n",
      "801/801 [==============================] - 0s 193us/step - loss: 0.0036 - acc: 1.0000 - val_loss: 0.0035 - val_acc: 1.0000\n",
      "Epoch 64/100\n",
      "801/801 [==============================] - 0s 234us/step - loss: 0.0035 - acc: 1.0000 - val_loss: 0.0033 - val_acc: 1.0000\n",
      "Epoch 65/100\n",
      "801/801 [==============================] - 0s 326us/step - loss: 0.0034 - acc: 1.0000 - val_loss: 0.0032 - val_acc: 1.0000\n",
      "Epoch 66/100\n",
      "801/801 [==============================] - 0s 267us/step - loss: 0.0033 - acc: 1.0000 - val_loss: 0.0031 - val_acc: 1.0000\n",
      "Epoch 67/100\n",
      "801/801 [==============================] - 0s 209us/step - loss: 0.0032 - acc: 1.0000 - val_loss: 0.0031 - val_acc: 1.0000\n",
      "Epoch 68/100\n",
      "801/801 [==============================] - 0s 191us/step - loss: 0.0031 - acc: 1.0000 - val_loss: 0.0030 - val_acc: 1.0000\n",
      "Epoch 69/100\n",
      "801/801 [==============================] - 0s 189us/step - loss: 0.0030 - acc: 1.0000 - val_loss: 0.0029 - val_acc: 1.0000\n",
      "Epoch 70/100\n",
      "801/801 [==============================] - 0s 202us/step - loss: 0.0029 - acc: 1.0000 - val_loss: 0.0028 - val_acc: 1.0000\n",
      "Epoch 71/100\n",
      "801/801 [==============================] - 0s 193us/step - loss: 0.0028 - acc: 1.0000 - val_loss: 0.0027 - val_acc: 1.0000\n",
      "Epoch 72/100\n",
      "801/801 [==============================] - 0s 192us/step - loss: 0.0027 - acc: 1.0000 - val_loss: 0.0026 - val_acc: 1.0000\n",
      "Epoch 73/100\n",
      "801/801 [==============================] - 0s 200us/step - loss: 0.0027 - acc: 1.0000 - val_loss: 0.0026 - val_acc: 1.0000\n",
      "Epoch 74/100\n",
      "801/801 [==============================] - 0s 204us/step - loss: 0.0026 - acc: 1.0000 - val_loss: 0.0025 - val_acc: 1.0000\n",
      "Epoch 75/100\n",
      "801/801 [==============================] - 0s 186us/step - loss: 0.0025 - acc: 1.0000 - val_loss: 0.0024 - val_acc: 1.0000\n",
      "Epoch 76/100\n",
      "801/801 [==============================] - 0s 277us/step - loss: 0.0025 - acc: 1.0000 - val_loss: 0.0024 - val_acc: 1.0000\n",
      "Epoch 77/100\n",
      "801/801 [==============================] - 0s 287us/step - loss: 0.0024 - acc: 1.0000 - val_loss: 0.0023 - val_acc: 1.0000\n",
      "Epoch 78/100\n",
      "801/801 [==============================] - 0s 201us/step - loss: 0.0023 - acc: 1.0000 - val_loss: 0.0022 - val_acc: 1.0000\n",
      "Epoch 79/100\n",
      "801/801 [==============================] - 0s 204us/step - loss: 0.0023 - acc: 1.0000 - val_loss: 0.0022 - val_acc: 1.0000\n",
      "Epoch 80/100\n",
      "801/801 [==============================] - 0s 202us/step - loss: 0.0022 - acc: 1.0000 - val_loss: 0.0021 - val_acc: 1.0000\n",
      "Epoch 81/100\n",
      "801/801 [==============================] - 0s 199us/step - loss: 0.0021 - acc: 1.0000 - val_loss: 0.0021 - val_acc: 1.0000\n",
      "Epoch 82/100\n",
      "801/801 [==============================] - 0s 202us/step - loss: 0.0022 - acc: 1.0000 - val_loss: 0.0021 - val_acc: 1.0000\n",
      "Epoch 83/100\n",
      "801/801 [==============================] - 0s 280us/step - loss: 0.0021 - acc: 1.0000 - val_loss: 0.0020 - val_acc: 1.0000\n",
      "Epoch 84/100\n",
      "801/801 [==============================] - 0s 201us/step - loss: 0.0020 - acc: 1.0000 - val_loss: 0.0020 - val_acc: 1.0000\n",
      "Epoch 85/100\n",
      "801/801 [==============================] - 0s 191us/step - loss: 0.0019 - acc: 1.0000 - val_loss: 0.0019 - val_acc: 1.0000\n",
      "Epoch 86/100\n",
      "801/801 [==============================] - 0s 193us/step - loss: 0.0019 - acc: 1.0000 - val_loss: 0.0018 - val_acc: 1.0000\n",
      "Epoch 87/100\n",
      "801/801 [==============================] - 0s 216us/step - loss: 0.0019 - acc: 1.0000 - val_loss: 0.0018 - val_acc: 1.0000\n",
      "Epoch 88/100\n",
      "801/801 [==============================] - 0s 193us/step - loss: 0.0018 - acc: 1.0000 - val_loss: 0.0017 - val_acc: 1.0000\n",
      "Epoch 89/100\n",
      "801/801 [==============================] - 0s 233us/step - loss: 0.0017 - acc: 1.0000 - val_loss: 0.0017 - val_acc: 1.0000\n",
      "Epoch 90/100\n",
      "801/801 [==============================] - 0s 216us/step - loss: 0.0017 - acc: 1.0000 - val_loss: 0.0016 - val_acc: 1.0000\n",
      "Epoch 91/100\n",
      "801/801 [==============================] - 0s 200us/step - loss: 0.0017 - acc: 1.0000 - val_loss: 0.0016 - val_acc: 1.0000\n",
      "Epoch 92/100\n",
      "801/801 [==============================] - 0s 204us/step - loss: 0.0016 - acc: 1.0000 - val_loss: 0.0016 - val_acc: 1.0000\n",
      "Epoch 93/100\n",
      "801/801 [==============================] - 0s 202us/step - loss: 0.0016 - acc: 1.0000 - val_loss: 0.0015 - val_acc: 1.0000\n",
      "Epoch 94/100\n",
      "801/801 [==============================] - 0s 200us/step - loss: 0.0015 - acc: 1.0000 - val_loss: 0.0015 - val_acc: 1.0000\n",
      "Epoch 95/100\n",
      "801/801 [==============================] - 0s 239us/step - loss: 0.0015 - acc: 1.0000 - val_loss: 0.0014 - val_acc: 1.0000\n",
      "Epoch 96/100\n",
      "801/801 [==============================] - 0s 222us/step - loss: 0.0015 - acc: 1.0000 - val_loss: 0.0014 - val_acc: 1.0000\n",
      "Epoch 97/100\n",
      "801/801 [==============================] - 0s 203us/step - loss: 0.0014 - acc: 1.0000 - val_loss: 0.0014 - val_acc: 1.0000\n",
      "Epoch 98/100\n",
      "801/801 [==============================] - 0s 195us/step - loss: 0.0014 - acc: 1.0000 - val_loss: 0.0013 - val_acc: 1.0000\n",
      "Epoch 99/100\n",
      "801/801 [==============================] - 0s 200us/step - loss: 0.0014 - acc: 1.0000 - val_loss: 0.0013 - val_acc: 1.0000\n",
      "Epoch 100/100\n",
      "801/801 [==============================] - 0s 222us/step - loss: 0.0013 - acc: 1.0000 - val_loss: 0.0013 - val_acc: 1.0000\n"
     ]
    }
   ],
   "source": [
    "# Creating the model\n",
    "model = create_model()\n",
    "\n",
    "# Training the model\n",
    "# callbacks = [EarlyStopping(monitor='acc', patience=2)] # do not apply without checking\n",
    "out = model.fit(X_train, y_train, epochs=100, batch_size=32, verbose=1, validation_split=0.1) #, callbacks=callbacks)"
   ]
  },
  {
   "cell_type": "code",
   "execution_count": 15,
   "metadata": {},
   "outputs": [
    {
     "data": {
      "text/plain": [
       "dict_keys(['val_loss', 'val_acc', 'loss', 'acc'])"
      ]
     },
     "execution_count": 15,
     "metadata": {},
     "output_type": "execute_result"
    }
   ],
   "source": [
    "out.__dict__['history'].keys()"
   ]
  },
  {
   "cell_type": "code",
   "execution_count": 16,
   "metadata": {},
   "outputs": [
    {
     "name": "stderr",
     "output_type": "stream",
     "text": [
      "/home/djifos/anaconda/lib/python3.6/site-packages/matplotlib/font_manager.py:279: UserWarning: Matplotlib is building the font cache using fc-list. This may take a moment.\n",
      "  'Matplotlib is building the font cache using fc-list. '\n"
     ]
    },
    {
     "data": {
      "image/png": "[encoded data removed]",
      "text/plain": [
       "<matplotlib.figure.Figure at 0x7faeb479b978>"
      ]
     },
     "metadata": {},
     "output_type": "display_data"
    },
    {
     "data": {
      "image/png": "[encoded data removed]",
      "text/plain": [
       "<matplotlib.figure.Figure at 0x7faeac0b7e80>"
      ]
     },
     "metadata": {},
     "output_type": "display_data"
    }
   ],
   "source": [
    "%matplotlib inline\n",
    "import matplotlib.pyplot as plt\n",
    "\n",
    "epochs = np.array(out.__dict__['epoch'])\n",
    "acc = np.array(out.__dict__['history']['acc'])\n",
    "loss = np.array(out.__dict__['history']['loss'])\n",
    "val_acc = np.array(out.__dict__['history']['val_acc'])\n",
    "val_loss = np.array(out.__dict__['history']['val_loss'])\n",
    "\n",
    "f = plt.figure(figsize=(7,5))\n",
    "plt.plot(epochs, loss, label='training')\n",
    "plt.plot(epochs, val_loss, label='validation')\n",
    "plt.legend(loc='upper left')\n",
    "plt.title('Loss')\n",
    "\n",
    "plt.show()\n",
    "\n",
    "f = plt.figure(figsize=(7,5))\n",
    "plt.plot(epochs, acc, label='training')\n",
    "plt.plot(epochs, val_acc, label='validation')\n",
    "plt.legend(loc='upper left')\n",
    "plt.title('Accuracy')\n",
    "\n",
    "plt.show()\n",
    "\n",
    "f.savefig(\"train_validation_loss.pdf\", bbox_inches='tight')"
   ]
  },
  {
   "cell_type": "code",
   "execution_count": 21,
   "metadata": {},
   "outputs": [
    {
     "name": "stdout",
     "output_type": "stream",
     "text": [
      "623/623 [==============================] - 0s 58us/step\n",
      "\n",
      " Training Accuracy: 0.825040128507\n",
      "268/268 [==============================] - 0s 67us/step\n",
      "\n",
      " Testing Accuracy: 0.873134329248\n"
     ]
    }
   ],
   "source": [
    "# Evaluating the model on the training and testing set\n",
    "train_score = model.evaluate(X_train, y_train, verbose=1)\n",
    "print(\"\\n Training Accuracy:\", train_score[1])\n",
    "test_score = model.evaluate(X_test, y_test, verbose=1)\n",
    "print(\"\\n Testing Accuracy:\", test_score[1])"
   ]
  },
  {
   "cell_type": "code",
   "execution_count": 22,
   "metadata": {
    "scrolled": true
   },
   "outputs": [
    {
     "name": "stdout",
     "output_type": "stream",
     "text": [
      "             precision    recall  f1-score   support\n",
      "\n",
      "          0       0.88      0.95      0.91       185\n",
      "          1       0.86      0.71      0.78        83\n",
      "\n",
      "avg / total       0.87      0.87      0.87       268\n",
      "\n",
      "[[175  10]\n",
      " [ 24  59]]\n",
      "\n",
      "TP: 59\n",
      "FN: 24\n",
      "TN: 175\n",
      "FP: 10\n"
     ]
    },
    {
     "data": {
      "text/plain": [
       "268"
      ]
     },
     "execution_count": 22,
     "metadata": {},
     "output_type": "execute_result"
    }
   ],
   "source": [
    "from sklearn.metrics import classification_report, confusion_matrix\n",
    "\n",
    "y_pred = model.predict(X_test)\n",
    "# y_pred = y.values.argmax\n",
    "\n",
    "y_pred = model.predict_classes(X_test)\n",
    "\n",
    "p = model.predict_proba(X_test)\n",
    "\n",
    "print(classification_report(np.argmax(y_test, axis=1), y_pred))\n",
    "print(confusion_matrix(np.argmax(y_test, axis=1), y_pred))\n",
    "print()\n",
    "TN, FP, FN, TP = confusion_matrix(np.argmax(y_test, axis=1), y_pred).ravel()\n",
    "print(\"TP:\", TP)\n",
    "print(\"FN:\", FN)\n",
    "print(\"TN:\", TN)\n",
    "print(\"FP:\", FP)\n",
    "len(p)"
   ]
  },
  {
   "cell_type": "code",
   "execution_count": 27,
   "metadata": {},
   "outputs": [
    {
     "data": {
      "text/html": [
       "<div>\n",
       "<style>\n",
       "    .dataframe thead tr:only-child th {\n",
       "        text-align: right;\n",
       "    }\n",
       "\n",
       "    .dataframe thead th {\n",
       "        text-align: left;\n",
       "    }\n",
       "\n",
       "    .dataframe tbody tr th {\n",
       "        vertical-align: top;\n",
       "    }\n",
       "</style>\n",
       "<table border=\"1\" class=\"dataframe\">\n",
       "  <thead>\n",
       "    <tr style=\"text-align: right;\">\n",
       "      <th></th>\n",
       "      <th>test_0</th>\n",
       "      <th>test_1</th>\n",
       "      <th>pred_0</th>\n",
       "      <th>pred_1</th>\n",
       "    </tr>\n",
       "  </thead>\n",
       "  <tbody>\n",
       "    <tr>\n",
       "      <th>2</th>\n",
       "      <td>0.0</td>\n",
       "      <td>1.0</td>\n",
       "      <td>0.462583</td>\n",
       "      <td>0.537417</td>\n",
       "    </tr>\n",
       "    <tr>\n",
       "      <th>3</th>\n",
       "      <td>0.0</td>\n",
       "      <td>1.0</td>\n",
       "      <td>0.004653</td>\n",
       "      <td>0.995347</td>\n",
       "    </tr>\n",
       "    <tr>\n",
       "      <th>8</th>\n",
       "      <td>0.0</td>\n",
       "      <td>1.0</td>\n",
       "      <td>0.479146</td>\n",
       "      <td>0.520854</td>\n",
       "    </tr>\n",
       "    <tr>\n",
       "      <th>11</th>\n",
       "      <td>0.0</td>\n",
       "      <td>1.0</td>\n",
       "      <td>0.140118</td>\n",
       "      <td>0.859882</td>\n",
       "    </tr>\n",
       "    <tr>\n",
       "      <th>16</th>\n",
       "      <td>0.0</td>\n",
       "      <td>1.0</td>\n",
       "      <td>0.000009</td>\n",
       "      <td>0.999991</td>\n",
       "    </tr>\n",
       "  </tbody>\n",
       "</table>\n",
       "</div>"
      ],
      "text/plain": [
       "    test_0  test_1    pred_0    pred_1\n",
       "2      0.0     1.0  0.462583  0.537417\n",
       "3      0.0     1.0  0.004653  0.995347\n",
       "8      0.0     1.0  0.479146  0.520854\n",
       "11     0.0     1.0  0.140118  0.859882\n",
       "16     0.0     1.0  0.000009  0.999991"
      ]
     },
     "execution_count": 27,
     "metadata": {},
     "output_type": "execute_result"
    }
   ],
   "source": [
    "conc = pd.concat([pd.DataFrame(y_test), pd.DataFrame(p)], axis=1)\n",
    "conc.columns = ['test_0', 'test_1', 'pred_0', 'pred_1']\n",
    "subdf = conc.loc[conc['test_1'] == 1]\n",
    "subdf.loc[subdf['pred_1'] >= 0.5][:5]"
   ]
  },
  {
   "cell_type": "code",
   "execution_count": null,
   "metadata": {
    "collapsed": true
   },
   "outputs": [],
   "source": []
  },
  {
   "cell_type": "code",
   "execution_count": 78,
   "metadata": {
    "collapsed": true
   },
   "outputs": [],
   "source": [
    "test = pd.read_csv('test.csv', sep=',')\n",
    "subm_test_data = prepare_input_df(test, False)"
   ]
  },
  {
   "cell_type": "code",
   "execution_count": 79,
   "metadata": {},
   "outputs": [
    {
     "data": {
      "text/plain": [
       "array([[  9.99990225e-01,   9.71680402e-06],\n",
       "       [  9.99990225e-01,   9.71680402e-06],\n",
       "       [  9.99990225e-01,   9.71680402e-06],\n",
       "       [  9.99990225e-01,   9.71680402e-06],\n",
       "       [  9.99990225e-01,   9.71680402e-06],\n",
       "       [  9.99990225e-01,   9.71680402e-06],\n",
       "       [  9.99990225e-01,   9.71680402e-06],\n",
       "       [  9.99990225e-01,   9.71680402e-06],\n",
       "       [  9.99990225e-01,   9.71680402e-06],\n",
       "       [  9.99990225e-01,   9.71680402e-06]], dtype=float32)"
      ]
     },
     "execution_count": 79,
     "metadata": {},
     "output_type": "execute_result"
    }
   ],
   "source": [
    "subm_test_data[:5]\n",
    "\n",
    "y_pred = model.predict_classes(subm_test_data)\n",
    "p = model.predict_proba(subm_test_data)\n",
    "p[:10]"
   ]
  },
  {
   "cell_type": "code",
   "execution_count": 80,
   "metadata": {},
   "outputs": [
    {
     "data": {
      "text/html": [
       "<div>\n",
       "<style>\n",
       "    .dataframe thead tr:only-child th {\n",
       "        text-align: right;\n",
       "    }\n",
       "\n",
       "    .dataframe thead th {\n",
       "        text-align: left;\n",
       "    }\n",
       "\n",
       "    .dataframe tbody tr th {\n",
       "        vertical-align: top;\n",
       "    }\n",
       "</style>\n",
       "<table border=\"1\" class=\"dataframe\">\n",
       "  <thead>\n",
       "    <tr style=\"text-align: right;\">\n",
       "      <th></th>\n",
       "      <th>pred0</th>\n",
       "      <th>pred1</th>\n",
       "    </tr>\n",
       "  </thead>\n",
       "  <tbody>\n",
       "    <tr>\n",
       "      <th>0</th>\n",
       "      <td>0.999990</td>\n",
       "      <td>0.000010</td>\n",
       "    </tr>\n",
       "    <tr>\n",
       "      <th>1</th>\n",
       "      <td>0.999990</td>\n",
       "      <td>0.000010</td>\n",
       "    </tr>\n",
       "    <tr>\n",
       "      <th>2</th>\n",
       "      <td>0.999990</td>\n",
       "      <td>0.000010</td>\n",
       "    </tr>\n",
       "    <tr>\n",
       "      <th>3</th>\n",
       "      <td>0.999990</td>\n",
       "      <td>0.000010</td>\n",
       "    </tr>\n",
       "    <tr>\n",
       "      <th>4</th>\n",
       "      <td>0.999990</td>\n",
       "      <td>0.000010</td>\n",
       "    </tr>\n",
       "    <tr>\n",
       "      <th>5</th>\n",
       "      <td>0.999990</td>\n",
       "      <td>0.000010</td>\n",
       "    </tr>\n",
       "    <tr>\n",
       "      <th>6</th>\n",
       "      <td>0.999990</td>\n",
       "      <td>0.000010</td>\n",
       "    </tr>\n",
       "    <tr>\n",
       "      <th>7</th>\n",
       "      <td>0.999990</td>\n",
       "      <td>0.000010</td>\n",
       "    </tr>\n",
       "    <tr>\n",
       "      <th>8</th>\n",
       "      <td>0.999990</td>\n",
       "      <td>0.000010</td>\n",
       "    </tr>\n",
       "    <tr>\n",
       "      <th>9</th>\n",
       "      <td>0.999990</td>\n",
       "      <td>0.000010</td>\n",
       "    </tr>\n",
       "    <tr>\n",
       "      <th>10</th>\n",
       "      <td>0.999990</td>\n",
       "      <td>0.000010</td>\n",
       "    </tr>\n",
       "    <tr>\n",
       "      <th>11</th>\n",
       "      <td>0.999990</td>\n",
       "      <td>0.000010</td>\n",
       "    </tr>\n",
       "    <tr>\n",
       "      <th>12</th>\n",
       "      <td>0.000008</td>\n",
       "      <td>0.999992</td>\n",
       "    </tr>\n",
       "    <tr>\n",
       "      <th>13</th>\n",
       "      <td>0.999990</td>\n",
       "      <td>0.000010</td>\n",
       "    </tr>\n",
       "    <tr>\n",
       "      <th>14</th>\n",
       "      <td>0.000008</td>\n",
       "      <td>0.999992</td>\n",
       "    </tr>\n",
       "    <tr>\n",
       "      <th>15</th>\n",
       "      <td>0.999990</td>\n",
       "      <td>0.000010</td>\n",
       "    </tr>\n",
       "    <tr>\n",
       "      <th>16</th>\n",
       "      <td>0.999990</td>\n",
       "      <td>0.000010</td>\n",
       "    </tr>\n",
       "    <tr>\n",
       "      <th>17</th>\n",
       "      <td>0.999990</td>\n",
       "      <td>0.000010</td>\n",
       "    </tr>\n",
       "    <tr>\n",
       "      <th>18</th>\n",
       "      <td>0.999990</td>\n",
       "      <td>0.000010</td>\n",
       "    </tr>\n",
       "    <tr>\n",
       "      <th>19</th>\n",
       "      <td>0.999990</td>\n",
       "      <td>0.000010</td>\n",
       "    </tr>\n",
       "  </tbody>\n",
       "</table>\n",
       "</div>"
      ],
      "text/plain": [
       "       pred0     pred1\n",
       "0   0.999990  0.000010\n",
       "1   0.999990  0.000010\n",
       "2   0.999990  0.000010\n",
       "3   0.999990  0.000010\n",
       "4   0.999990  0.000010\n",
       "5   0.999990  0.000010\n",
       "6   0.999990  0.000010\n",
       "7   0.999990  0.000010\n",
       "8   0.999990  0.000010\n",
       "9   0.999990  0.000010\n",
       "10  0.999990  0.000010\n",
       "11  0.999990  0.000010\n",
       "12  0.000008  0.999992\n",
       "13  0.999990  0.000010\n",
       "14  0.000008  0.999992\n",
       "15  0.999990  0.000010\n",
       "16  0.999990  0.000010\n",
       "17  0.999990  0.000010\n",
       "18  0.999990  0.000010\n",
       "19  0.999990  0.000010"
      ]
     },
     "execution_count": 80,
     "metadata": {},
     "output_type": "execute_result"
    }
   ],
   "source": [
    "df = pd.DataFrame(p)\n",
    "df.columns = ['pred0', 'pred1']\n",
    "df[:20]"
   ]
  },
  {
   "cell_type": "code",
   "execution_count": 81,
   "metadata": {},
   "outputs": [
    {
     "data": {
      "text/plain": [
       "pandas.core.series.Series"
      ]
     },
     "execution_count": 81,
     "metadata": {},
     "output_type": "execute_result"
    }
   ],
   "source": [
    "comp = df.pred0 < df.pred1\n",
    "comp[:20]\n",
    "type(comp)"
   ]
  },
  {
   "cell_type": "code",
   "execution_count": 82,
   "metadata": {},
   "outputs": [],
   "source": [
    "with open(\"titanic_submission.csv\", \"w\") as f: \n",
    "    f.write(\"PassengerId,Survived\\n\")\n",
    "    \n",
    "    for i in range(len(comp)):\n",
    "        f.write(str(i + 892) + ',' + str(int(comp[i])) + \"\\n\")\n",
    "        "
   ]
  },
  {
   "cell_type": "code",
   "execution_count": 42,
   "metadata": {},
   "outputs": [
    {
     "data": {
      "text/plain": [
       "0"
      ]
     },
     "execution_count": 42,
     "metadata": {},
     "output_type": "execute_result"
    }
   ],
   "source": [
    "int(False)"
   ]
  },
  {
   "cell_type": "code",
   "execution_count": null,
   "metadata": {
    "collapsed": true
   },
   "outputs": [],
   "source": []
  }
 ],
 "metadata": {
  "kernelspec": {
   "display_name": "Python 3",
   "language": "python",
   "name": "python3"
  },
  "language_info": {
   "codemirror_mode": {
    "name": "ipython",
    "version": 3
   },
   "file_extension": ".py",
   "mimetype": "text/x-python",
   "name": "python",
   "nbconvert_exporter": "python",
   "pygments_lexer": "ipython3",
   "version": "3.6.3"
  }
 },
 "nbformat": 4,
 "nbformat_minor": 2
}
